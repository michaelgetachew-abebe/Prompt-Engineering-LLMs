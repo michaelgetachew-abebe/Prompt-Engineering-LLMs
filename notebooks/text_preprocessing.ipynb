{
 "cells": [
  {
   "cell_type": "code",
   "execution_count": 2,
   "metadata": {},
   "outputs": [],
   "source": [
    "import sys\n",
    "sys.path.append(\"../scripts/\")\n",
    "from cleaner import DataCleaner\n",
    "from assistants import assistant\n",
    "from text_preprocessor import Processor"
   ]
  },
  {
   "cell_type": "code",
   "execution_count": 3,
   "metadata": {},
   "outputs": [],
   "source": [
    "import pandas as pd\n",
    "import seaborn as sns\n",
    "import matplotlib.pyplot as plt\n",
    "import numpy as np\n",
    "import re\n",
    "import warnings\n",
    "\n",
    "from data_describe.text.text_preprocessing import *\n",
    "from sklearn.datasets import fetch_20newsgroups\n",
    "\n",
    "warnings.filterwarnings('ignore')"
   ]
  },
  {
   "cell_type": "code",
   "execution_count": 4,
   "metadata": {},
   "outputs": [
    {
     "name": "stderr",
     "output_type": "stream",
     "text": [
      "[nltk_data] Downloading package wordnet to\n",
      "[nltk_data]     C:\\Users\\mikyg\\AppData\\Roaming\\nltk_data...\n",
      "[nltk_data]   Package wordnet is already up-to-date!\n",
      "[nltk_data] Downloading package stopwords to\n",
      "[nltk_data]     C:\\Users\\mikyg\\AppData\\Roaming\\nltk_data...\n",
      "[nltk_data]   Package stopwords is already up-to-date!\n",
      "[nltk_data] Downloading package omw-1.4 to\n",
      "[nltk_data]     C:\\Users\\mikyg\\AppData\\Roaming\\nltk_data...\n",
      "[nltk_data] Downloading package wordnet to\n",
      "[nltk_data]     C:\\Users\\mikyg\\AppData\\Roaming\\nltk_data...\n",
      "[nltk_data]   Package wordnet is already up-to-date!\n",
      "[nltk_data] Downloading package stopwords to\n",
      "[nltk_data]     C:\\Users\\mikyg\\AppData\\Roaming\\nltk_data...\n",
      "[nltk_data]   Package stopwords is already up-to-date!\n",
      "[nltk_data] Downloading package omw-1.4 to\n",
      "[nltk_data]     C:\\Users\\mikyg\\AppData\\Roaming\\nltk_data...\n",
      "[nltk_data]   Package omw-1.4 is already up-to-date!\n"
     ]
    }
   ],
   "source": [
    "assistant = assistant()\n",
    "cleaner = DataCleaner()\n",
    "processor = Processor()"
   ]
  },
  {
   "cell_type": "code",
   "execution_count": 6,
   "metadata": {},
   "outputs": [],
   "source": [
    "repo=\"https://github.com/michaelgetachew-abebe/Prompt-Engineering-LLMs.git\"\n",
    "news_dataframe=assistant.read_from_dvc(\"data/cleaned_news.csv\",repo,\"60787a4c729bc276d60d03c0c0823a974cf1c93e\",low_memory=False)\n",
    "news_dataframe=news_dataframe.sample(frac=1)"
   ]
  },
  {
   "cell_type": "code",
   "execution_count": 7,
   "metadata": {},
   "outputs": [],
   "source": [
    "train_news=news_dataframe.head(7)\n",
    "test_news=news_dataframe.tail(3)"
   ]
  },
  {
   "cell_type": "code",
   "execution_count": 8,
   "metadata": {},
   "outputs": [],
   "source": [
    "full_processed_df=processor.prepare_text(train_news.copy())\n",
    "description_processed=processor.prepare_text(train_news.copy(),columns=[\"Description\"])[[\"Description\",\"Analyst_Average_Score\"]]\n",
    "title_processed=processor.prepare_text(train_news.copy(),columns=[\"Title\"])[[\"Title\",\"Analyst_Average_Score\"]]\n",
    "body_processed=processor.prepare_text(train_news.copy(),columns=[\"Body\"])[[\"Body\",\"Analyst_Average_Score\"]]\n",
    "unprocessed=train_news\n",
    "\n",
    "processed_test=processor.prepare_text(test_news)"
   ]
  },
  {
   "cell_type": "code",
   "execution_count": 9,
   "metadata": {},
   "outputs": [],
   "source": [
    "frames = [full_processed_df, description_processed, title_processed, body_processed, unprocessed]\n",
    "\n",
    "full_promp_trainer = pd.concat(frames)"
   ]
  },
  {
   "cell_type": "code",
   "execution_count": 10,
   "metadata": {},
   "outputs": [],
   "source": [
    "full_promp_trainer=full_promp_trainer.reset_index().drop(['index'],axis=1)"
   ]
  },
  {
   "cell_type": "code",
   "execution_count": 11,
   "metadata": {},
   "outputs": [
    {
     "data": {
      "text/html": [
       "<div>\n",
       "<style scoped>\n",
       "    .dataframe tbody tr th:only-of-type {\n",
       "        vertical-align: middle;\n",
       "    }\n",
       "\n",
       "    .dataframe tbody tr th {\n",
       "        vertical-align: top;\n",
       "    }\n",
       "\n",
       "    .dataframe thead th {\n",
       "        text-align: right;\n",
       "    }\n",
       "</style>\n",
       "<table border=\"1\" class=\"dataframe\">\n",
       "  <thead>\n",
       "    <tr style=\"text-align: right;\">\n",
       "      <th></th>\n",
       "      <th>Domain</th>\n",
       "      <th>Title</th>\n",
       "      <th>Description</th>\n",
       "      <th>Body</th>\n",
       "      <th>timestamp</th>\n",
       "      <th>Analyst Average Score</th>\n",
       "    </tr>\n",
       "  </thead>\n",
       "  <tbody>\n",
       "    <tr>\n",
       "      <th>0</th>\n",
       "      <td>eminetra za</td>\n",
       "      <td>7th anniversari scoan collaps nigeria sabc news</td>\n",
       "      <td>lago nigeria 84 south african kill build hous ...</td>\n",
       "      <td>today 7th anniversari tragic collaps synagogu ...</td>\n",
       "      <td>2021 09 12 05 17 50 279081</td>\n",
       "      <td>0.0</td>\n",
       "    </tr>\n",
       "    <tr>\n",
       "      <th>1</th>\n",
       "      <td>rassegnastampa news</td>\n",
       "      <td>bori johnson use taxpay fund jet elect campaig...</td>\n",
       "      <td>trigger protest vote upset minist breach minis...</td>\n",
       "      <td>bori johnson use taxpay fund jet elect campaig...</td>\n",
       "      <td>2021 09 09 18 17 46 258006</td>\n",
       "      <td>0.0</td>\n",
       "    </tr>\n",
       "    <tr>\n",
       "      <th>2</th>\n",
       "      <td>kryptogazett com</td>\n",
       "      <td>triacetin vertrieb markt 2021 global unternehm...</td>\n",
       "      <td>abschnitten und endanwendungen organisationen ...</td>\n",
       "      <td>global triacetin vertrieb markt 2021 von herst...</td>\n",
       "      <td>2021 09 08 12 47 46 078369</td>\n",
       "      <td>0.0</td>\n",
       "    </tr>\n",
       "    <tr>\n",
       "      <th>3</th>\n",
       "      <td>twitter com</td>\n",
       "      <td>stumbl case woman face evict home inherit brot...</td>\n",
       "      <td>stumbl case woman face evict home inherit brot...</td>\n",
       "      <td>stumbl case woman face evict home inherit brot...</td>\n",
       "      <td>2021 09 08 13 02 45 802298</td>\n",
       "      <td>0.0</td>\n",
       "    </tr>\n",
       "    <tr>\n",
       "      <th>4</th>\n",
       "      <td>manometcurr com</td>\n",
       "      <td>global region beta caroten market research 202...</td>\n",
       "      <td>key player dsm basf alli biotech chr histor ma...</td>\n",
       "      <td>global region beta caroten market research 202...</td>\n",
       "      <td>2021 09 13 03 02 45 609228</td>\n",
       "      <td>0.0</td>\n",
       "    </tr>\n",
       "  </tbody>\n",
       "</table>\n",
       "</div>"
      ],
      "text/plain": [
       "                Domain                                              Title  \\\n",
       "0          eminetra za    7th anniversari scoan collaps nigeria sabc news   \n",
       "1  rassegnastampa news  bori johnson use taxpay fund jet elect campaig...   \n",
       "2     kryptogazett com  triacetin vertrieb markt 2021 global unternehm...   \n",
       "3          twitter com  stumbl case woman face evict home inherit brot...   \n",
       "4      manometcurr com  global region beta caroten market research 202...   \n",
       "\n",
       "                                         Description  \\\n",
       "0  lago nigeria 84 south african kill build hous ...   \n",
       "1  trigger protest vote upset minist breach minis...   \n",
       "2  abschnitten und endanwendungen organisationen ...   \n",
       "3  stumbl case woman face evict home inherit brot...   \n",
       "4  key player dsm basf alli biotech chr histor ma...   \n",
       "\n",
       "                                                Body  \\\n",
       "0  today 7th anniversari tragic collaps synagogu ...   \n",
       "1  bori johnson use taxpay fund jet elect campaig...   \n",
       "2  global triacetin vertrieb markt 2021 von herst...   \n",
       "3  stumbl case woman face evict home inherit brot...   \n",
       "4  global region beta caroten market research 202...   \n",
       "\n",
       "                    timestamp  Analyst Average Score  \n",
       "0  2021 09 12 05 17 50 279081                    0.0  \n",
       "1  2021 09 09 18 17 46 258006                    0.0  \n",
       "2  2021 09 08 12 47 46 078369                    0.0  \n",
       "3  2021 09 08 13 02 45 802298                    0.0  \n",
       "4  2021 09 13 03 02 45 609228                    0.0  "
      ]
     },
     "execution_count": 11,
     "metadata": {},
     "output_type": "execute_result"
    }
   ],
   "source": [
    "full_promp_trainer=full_promp_trainer[['Domain','Title','Description','Body','timestamp','Analyst_Average_Score']]\n",
    "full_promp_trainer.rename(columns={\"Analyst_Average_Score\":\"Analyst Average Score\"},inplace=True)\n",
    "# full_promp_trainer=cleaner.convert_to_datetime(full_promp_trainer,['timestamp'])\n",
    "full_promp_trainer=full_promp_trainer.fillna('')\n",
    "full_promp_trainer.head()"
   ]
  },
  {
   "cell_type": "code",
   "execution_count": 12,
   "metadata": {},
   "outputs": [
    {
     "name": "stdout",
     "output_type": "stream",
     "text": [
      "tuner prepared successfuly\n"
     ]
    }
   ],
   "source": [
    "processor.prepare_tuner(full_promp_trainer)"
   ]
  },
  {
   "cell_type": "code",
   "execution_count": 13,
   "metadata": {},
   "outputs": [],
   "source": [
    "full_processed_df.to_csv(\"../data/training_news.csv\",index=False)\n",
    "processed_test.to_csv(\"../data/testing_news.csv\",index=False)"
   ]
  }
 ],
 "metadata": {
  "kernelspec": {
   "display_name": "Python 3.9.12 ('base')",
   "language": "python",
   "name": "python3"
  },
  "language_info": {
   "codemirror_mode": {
    "name": "ipython",
    "version": 3
   },
   "file_extension": ".py",
   "mimetype": "text/x-python",
   "name": "python",
   "nbconvert_exporter": "python",
   "pygments_lexer": "ipython3",
   "version": "3.9.12"
  },
  "orig_nbformat": 4,
  "vscode": {
   "interpreter": {
    "hash": "8b1e457b8bfb0f1a80baef745a8b0e3e0434ec352b0bd03e5bd8b3ada5f38a19"
   }
  }
 },
 "nbformat": 4,
 "nbformat_minor": 2
}
