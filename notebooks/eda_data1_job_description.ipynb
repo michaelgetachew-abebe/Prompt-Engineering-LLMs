{
 "cells": [
  {
   "cell_type": "code",
   "execution_count": null,
   "metadata": {},
   "outputs": [],
   "source": [
    "#Importing the modules"
   ]
  }
 ],
 "metadata": {
  "kernelspec": {
   "display_name": "Python 3.10.7 64-bit (microsoft store)",
   "language": "python",
   "name": "python3"
  },
  "language_info": {
   "name": "python",
   "version": "3.10.7"
  },
  "orig_nbformat": 4,
  "vscode": {
   "interpreter": {
    "hash": "bc2b95294b7fc0d9b691e7b1ef6078b1b31a6e64c1c74ee03731b49a89877360"
   }
  }
 },
 "nbformat": 4,
 "nbformat_minor": 2
}
