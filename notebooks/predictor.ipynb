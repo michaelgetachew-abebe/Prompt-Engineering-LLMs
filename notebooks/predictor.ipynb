{
 "cells": [
  {
   "cell_type": "code",
   "execution_count": 1,
   "metadata": {},
   "outputs": [],
   "source": [
    "import sys\n",
    "import os\n",
    "sys.path.append(os.path.abspath(os.path.join(\"../scripts\")))"
   ]
  },
  {
   "cell_type": "code",
   "execution_count": 2,
   "metadata": {},
   "outputs": [],
   "source": [
    "import pandas as pd\n",
    "import seaborn as sns\n",
    "import matplotlib.pyplot as plt\n",
    "import numpy as np\n",
    "import re\n",
    "import warnings\n",
    "warnings.filterwarnings('ignore')\n",
    "from assistants import assistant\n",
    "from cleaner import DataCleaner\n",
    "from predict import Predict"
   ]
  },
  {
   "cell_type": "code",
   "execution_count": 3,
   "metadata": {},
   "outputs": [
    {
     "name": "stderr",
     "output_type": "stream",
     "text": [
      "[nltk_data] Downloading package wordnet to\n",
      "[nltk_data]     C:\\Users\\mikyg\\AppData\\Roaming\\nltk_data...\n",
      "[nltk_data]   Package wordnet is already up-to-date!\n",
      "[nltk_data] Downloading package stopwords to\n",
      "[nltk_data]     C:\\Users\\mikyg\\AppData\\Roaming\\nltk_data...\n",
      "[nltk_data]   Package stopwords is already up-to-date!\n",
      "[nltk_data] Downloading package omw-1.4 to\n",
      "[nltk_data]     C:\\Users\\mikyg\\AppData\\Roaming\\nltk_data...\n",
      "[nltk_data]   Package omw-1.4 is already up-to-date!\n"
     ]
    }
   ],
   "source": [
    "assistant = assistant()\n",
    "cleaner = DataCleaner()\n",
    "predictor = Predict()"
   ]
  },
  {
   "cell_type": "code",
   "execution_count": 4,
   "metadata": {},
   "outputs": [],
   "source": [
    "repo=\"https://github.com/michaelgetachew-abebe/Prompt-Engineering-LLMs.git\"\n",
    "\n",
    "test=assistant.read_from_dvc(\"data/testing_news.csv\",repo,\"d186622a5e9ebe50a7240969d4c1b0f41c92ae9f\",low_memory=False)\n",
    "train=assistant.read_from_dvc(\"data/training_news.csv\",repo,\"d186622a5e9ebe50a7240969d4c1b0f41c92ae9f\",low_memory=False)"
   ]
  },
  {
   "cell_type": "code",
   "execution_count": 5,
   "metadata": {},
   "outputs": [
    {
     "name": "stdout",
     "output_type": "stream",
     "text": [
      "Prediction:  0\n"
     ]
    },
    {
     "ename": "CohereError",
     "evalue": "invalid api token",
     "output_type": "error",
     "traceback": [
      "\u001b[1;31m---------------------------------------------------------------------------\u001b[0m",
      "\u001b[1;31mCohereError\u001b[0m                               Traceback (most recent call last)",
      "\u001b[1;32mc:\\Users\\mikyg\\OneDrive\\Desktop\\10 Acadamy\\Week 4\\Prompt-Engineering-LLMs\\notebooks\\predictor.ipynb Cell 5\u001b[0m in \u001b[0;36m<cell line: 13>\u001b[1;34m()\u001b[0m\n\u001b[0;32m     <a href='vscode-notebook-cell:/c%3A/Users/mikyg/OneDrive/Desktop/10%20Acadamy/Week%204/Prompt-Engineering-LLMs/notebooks/predictor.ipynb#W6sZmlsZQ%3D%3D?line=9'>10</a>\u001b[0m unique_train_e\u001b[39m=\u001b[39mpd\u001b[39m.\u001b[39mDataFrame()\n\u001b[0;32m     <a href='vscode-notebook-cell:/c%3A/Users/mikyg/OneDrive/Desktop/10%20Acadamy/Week%204/Prompt-Engineering-LLMs/notebooks/predictor.ipynb#W6sZmlsZQ%3D%3D?line=11'>12</a>\u001b[0m predictor\u001b[39m.\u001b[39mpredict(unique_train,unique_test)\n\u001b[1;32m---> <a href='vscode-notebook-cell:/c%3A/Users/mikyg/OneDrive/Desktop/10%20Acadamy/Week%204/Prompt-Engineering-LLMs/notebooks/predictor.ipynb#W6sZmlsZQ%3D%3D?line=12'>13</a>\u001b[0m predictor\u001b[39m.\u001b[39;49mpredict(unique_train,unique_test,model\u001b[39m=\u001b[39;49m\u001b[39m\"\u001b[39;49m\u001b[39ma0b276d4-adf8-453e-983f-31b8761e8521-ft\u001b[39;49m\u001b[39m\"\u001b[39;49m)\n\u001b[0;32m     <a href='vscode-notebook-cell:/c%3A/Users/mikyg/OneDrive/Desktop/10%20Acadamy/Week%204/Prompt-Engineering-LLMs/notebooks/predictor.ipynb#W6sZmlsZQ%3D%3D?line=13'>14</a>\u001b[0m prompt\u001b[39m=\u001b[39mpredictor\u001b[39m.\u001b[39mpredict(unique_train,unique_test, model\u001b[39m=\u001b[39m\u001b[39m\"\u001b[39m\u001b[39mc6af2dfd-16ae-4503-9693-6e50dae3861a-ft\u001b[39m\u001b[39m\"\u001b[39m )\n\u001b[0;32m     <a href='vscode-notebook-cell:/c%3A/Users/mikyg/OneDrive/Desktop/10%20Acadamy/Week%204/Prompt-Engineering-LLMs/notebooks/predictor.ipynb#W6sZmlsZQ%3D%3D?line=14'>15</a>\u001b[0m prompt\u001b[39m=\u001b[39mpredictor\u001b[39m.\u001b[39mpredict(unique_train,unique_test, model\u001b[39m=\u001b[39m\u001b[39m\"\u001b[39m\u001b[39macfdd84f-2b81-4ee2-92d5-22ca5ee8f4f0-ft\u001b[39m\u001b[39m\"\u001b[39m )\n",
      "File \u001b[1;32mc:\\Users\\mikyg\\OneDrive\\Desktop\\10 Acadamy\\Week 4\\Prompt-Engineering-LLMs\\scripts\\predict.py:45\u001b[0m, in \u001b[0;36mPredict.predict\u001b[1;34m(self, train_df, test, model)\u001b[0m\n\u001b[0;32m     42\u001b[0m \u001b[39m# prompt = \"Task: Score News relevance\\n\\n\"+prompt\u001b[39;00m\n\u001b[0;32m     44\u001b[0m co \u001b[39m=\u001b[39m cohere\u001b[39m.\u001b[39mClient(\u001b[39mf\u001b[39m\u001b[39m'\u001b[39m\u001b[39m{\u001b[39;00m\u001b[39mself\u001b[39m\u001b[39m.\u001b[39mapi_key\u001b[39m}\u001b[39;00m\u001b[39m'\u001b[39m)\n\u001b[1;32m---> 45\u001b[0m response \u001b[39m=\u001b[39m co\u001b[39m.\u001b[39;49mgenerate(\n\u001b[0;32m     46\u001b[0m model\u001b[39m=\u001b[39;49mmodel,\n\u001b[0;32m     47\u001b[0m prompt\u001b[39m=\u001b[39;49mprompt\u001b[39m.\u001b[39;49mstrip(),\n\u001b[0;32m     48\u001b[0m max_tokens\u001b[39m=\u001b[39;49m\u001b[39m1\u001b[39;49m,\n\u001b[0;32m     49\u001b[0m temperature\u001b[39m=\u001b[39;49m\u001b[39m0.9\u001b[39;49m,\n\u001b[0;32m     50\u001b[0m k\u001b[39m=\u001b[39;49m\u001b[39m0\u001b[39;49m,\n\u001b[0;32m     51\u001b[0m p\u001b[39m=\u001b[39;49m\u001b[39m0.75\u001b[39;49m,\n\u001b[0;32m     52\u001b[0m frequency_penalty\u001b[39m=\u001b[39;49m\u001b[39m0\u001b[39;49m,\n\u001b[0;32m     53\u001b[0m presence_penalty\u001b[39m=\u001b[39;49m\u001b[39m0\u001b[39;49m,\n\u001b[0;32m     54\u001b[0m stop_sequences\u001b[39m=\u001b[39;49m[\u001b[39m\"\u001b[39;49m\u001b[39m-- --\u001b[39;49m\u001b[39m\"\u001b[39;49m],\n\u001b[0;32m     55\u001b[0m return_likelihoods\u001b[39m=\u001b[39;49m\u001b[39m'\u001b[39;49m\u001b[39mNONE\u001b[39;49m\u001b[39m'\u001b[39;49m)\n\u001b[0;32m     56\u001b[0m \u001b[39mprint\u001b[39m(\u001b[39m'\u001b[39m\u001b[39mPrediction: \u001b[39m\u001b[39m{}\u001b[39;00m\u001b[39m'\u001b[39m\u001b[39m.\u001b[39mformat(response\u001b[39m.\u001b[39mgenerations[\u001b[39m0\u001b[39m]\u001b[39m.\u001b[39mtext))\n\u001b[0;32m     57\u001b[0m \u001b[39mreturn\u001b[39;00m prompt\n",
      "File \u001b[1;32mc:\\Users\\mikyg\\anaconda3\\lib\\site-packages\\cohere\\client.py:109\u001b[0m, in \u001b[0;36mClient.generate\u001b[1;34m(self, prompt, model, num_generations, max_tokens, temperature, k, p, frequency_penalty, presence_penalty, stop_sequences, return_likelihoods, truncate)\u001b[0m\n\u001b[0;32m     82\u001b[0m \u001b[39mdef\u001b[39;00m \u001b[39mgenerate\u001b[39m(\u001b[39mself\u001b[39m,\n\u001b[0;32m     83\u001b[0m              prompt: \u001b[39mstr\u001b[39m,\n\u001b[0;32m     84\u001b[0m              model: \u001b[39mstr\u001b[39m \u001b[39m=\u001b[39m \u001b[39mNone\u001b[39;00m,\n\u001b[1;32m   (...)\u001b[0m\n\u001b[0;32m     93\u001b[0m              return_likelihoods: \u001b[39mstr\u001b[39m \u001b[39m=\u001b[39m \u001b[39m'\u001b[39m\u001b[39mNONE\u001b[39m\u001b[39m'\u001b[39m,\n\u001b[0;32m     94\u001b[0m              truncate: \u001b[39mstr\u001b[39m \u001b[39m=\u001b[39m \u001b[39mNone\u001b[39;00m) \u001b[39m-\u001b[39m\u001b[39m>\u001b[39m Generations:\n\u001b[0;32m     95\u001b[0m     json_body \u001b[39m=\u001b[39m json\u001b[39m.\u001b[39mdumps({\n\u001b[0;32m     96\u001b[0m         \u001b[39m'\u001b[39m\u001b[39mmodel\u001b[39m\u001b[39m'\u001b[39m: model,\n\u001b[0;32m     97\u001b[0m         \u001b[39m'\u001b[39m\u001b[39mprompt\u001b[39m\u001b[39m'\u001b[39m: prompt,\n\u001b[1;32m   (...)\u001b[0m\n\u001b[0;32m    107\u001b[0m         \u001b[39m'\u001b[39m\u001b[39mtruncate\u001b[39m\u001b[39m'\u001b[39m: truncate,\n\u001b[0;32m    108\u001b[0m     })\n\u001b[1;32m--> 109\u001b[0m     response \u001b[39m=\u001b[39m \u001b[39mself\u001b[39;49m\u001b[39m.\u001b[39;49m__request(json_body, cohere\u001b[39m.\u001b[39;49mGENERATE_URL)\n\u001b[0;32m    111\u001b[0m     generations: List[Generation] \u001b[39m=\u001b[39m []\n\u001b[0;32m    112\u001b[0m     \u001b[39mfor\u001b[39;00m gen \u001b[39min\u001b[39;00m response[\u001b[39m'\u001b[39m\u001b[39mgenerations\u001b[39m\u001b[39m'\u001b[39m]:\n",
      "File \u001b[1;32mc:\\Users\\mikyg\\anaconda3\\lib\\site-packages\\cohere\\client.py:277\u001b[0m, in \u001b[0;36mClient.__request\u001b[1;34m(self, json_body, endpoint)\u001b[0m\n\u001b[0;32m    275\u001b[0m         \u001b[39mraise\u001b[39;00m CohereError(message\u001b[39m=\u001b[39mresponse\u001b[39m.\u001b[39mtext, http_status\u001b[39m=\u001b[39mresponse\u001b[39m.\u001b[39mstatus_code, headers\u001b[39m=\u001b[39mresponse\u001b[39m.\u001b[39mheaders)\n\u001b[0;32m    276\u001b[0m     \u001b[39mif\u001b[39;00m \u001b[39m'\u001b[39m\u001b[39mmessage\u001b[39m\u001b[39m'\u001b[39m \u001b[39min\u001b[39;00m res\u001b[39m.\u001b[39mkeys():  \u001b[39m# has errors\u001b[39;00m\n\u001b[1;32m--> 277\u001b[0m         \u001b[39mraise\u001b[39;00m CohereError(message\u001b[39m=\u001b[39mres[\u001b[39m'\u001b[39m\u001b[39mmessage\u001b[39m\u001b[39m'\u001b[39m], http_status\u001b[39m=\u001b[39mresponse\u001b[39m.\u001b[39mstatus_code, headers\u001b[39m=\u001b[39mresponse\u001b[39m.\u001b[39mheaders)\n\u001b[0;32m    278\u001b[0m     \u001b[39mself\u001b[39m\u001b[39m.\u001b[39m__print_warning_msg(response)\n\u001b[0;32m    280\u001b[0m \u001b[39mreturn\u001b[39;00m res\n",
      "\u001b[1;31mCohereError\u001b[0m: invalid api token"
     ]
    }
   ],
   "source": [
    "all_columns=['Domain', 'Title', 'Description', 'Body', 'Link', 'timestamp','Analyst_Rank', 'Analyst_Average_Score']\n",
    "useful_columns=[ 'Description', 'Body','Analyst_Average_Score']\n",
    "drop_columns=['Title','Domain', 'Link','Reference_Final_Score','timestamp','Analyst_Rank']\n",
    "\n",
    "unique_train=train.sample()[useful_columns]\n",
    "unique_test = test.drop(drop_columns,axis=1).sample()\n",
    "\n",
    "unique_train=unique_train.rename(columns={\"Analyst_Average_Score\":\"Analyst Average Score\"})\n",
    "unique_test=unique_test.rename(columns={\"Analyst_Average_Score\":\"Analyst Average Score\"})\n",
    "unique_train_e=pd.DataFrame()\n",
    "\n",
    "predictor.predict(unique_train,unique_test)\n",
    "predictor.predict(unique_train,unique_test,model=\"a0b276d4-adf8-453e-983f-31b8761e8521-ft\")\n",
    "prompt=predictor.predict(unique_train,unique_test, model=\"c6af2dfd-16ae-4503-9693-6e50dae3861a-ft\" )\n",
    "prompt=predictor.predict(unique_train,unique_test, model=\"acfdd84f-2b81-4ee2-92d5-22ca5ee8f4f0-ft\" )\n",
    "\n",
    "print(f\"Correct Value: {unique_test.iloc[0,-1]}\")"
   ]
  }
 ],
 "metadata": {
  "kernelspec": {
   "display_name": "Python 3.9.12 ('base')",
   "language": "python",
   "name": "python3"
  },
  "language_info": {
   "codemirror_mode": {
    "name": "ipython",
    "version": 3
   },
   "file_extension": ".py",
   "mimetype": "text/x-python",
   "name": "python",
   "nbconvert_exporter": "python",
   "pygments_lexer": "ipython3",
   "version": "3.9.12"
  },
  "orig_nbformat": 4,
  "vscode": {
   "interpreter": {
    "hash": "8b1e457b8bfb0f1a80baef745a8b0e3e0434ec352b0bd03e5bd8b3ada5f38a19"
   }
  }
 },
 "nbformat": 4,
 "nbformat_minor": 2
}
