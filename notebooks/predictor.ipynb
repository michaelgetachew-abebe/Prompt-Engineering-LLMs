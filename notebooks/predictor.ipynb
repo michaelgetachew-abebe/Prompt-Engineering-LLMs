{
 "cells": [
  {
   "cell_type": "code",
   "execution_count": 1,
   "metadata": {},
   "outputs": [],
   "source": [
    "import sys\n",
    "import os\n",
    "sys.path.append(os.path.abspath(os.path.join(\"../scripts\")))"
   ]
  },
  {
   "cell_type": "code",
   "execution_count": 2,
   "metadata": {},
   "outputs": [
    {
     "name": "stderr",
     "output_type": "stream",
     "text": [
      "[nltk_data] Downloading package wordnet to\n",
      "[nltk_data]     C:\\Users\\mikyg\\AppData\\Roaming\\nltk_data...\n",
      "[nltk_data]   Package wordnet is already up-to-date!\n",
      "[nltk_data] Downloading package stopwords to\n",
      "[nltk_data]     C:\\Users\\mikyg\\AppData\\Roaming\\nltk_data...\n",
      "[nltk_data]   Package stopwords is already up-to-date!\n",
      "[nltk_data] Downloading package omw-1.4 to\n",
      "[nltk_data]     C:\\Users\\mikyg\\AppData\\Roaming\\nltk_data...\n",
      "[nltk_data]   Package omw-1.4 is already up-to-date!\n"
     ]
    }
   ],
   "source": [
    "import pandas as pd\n",
    "import seaborn as sns\n",
    "import matplotlib.pyplot as plt\n",
    "import numpy as np\n",
    "import re\n",
    "import warnings\n",
    "warnings.filterwarnings('ignore')\n",
    "from assistants import assistant\n",
    "from cleaner import DataCleaner\n",
    "from predict import Predict"
   ]
  },
  {
   "cell_type": "code",
   "execution_count": 3,
   "metadata": {},
   "outputs": [
    {
     "name": "stderr",
     "output_type": "stream",
     "text": [
      "[nltk_data] Downloading package wordnet to\n",
      "[nltk_data]     C:\\Users\\mikyg\\AppData\\Roaming\\nltk_data...\n",
      "[nltk_data]   Package wordnet is already up-to-date!\n",
      "[nltk_data] Downloading package stopwords to\n",
      "[nltk_data]     C:\\Users\\mikyg\\AppData\\Roaming\\nltk_data...\n",
      "[nltk_data]   Package stopwords is already up-to-date!\n",
      "[nltk_data] Downloading package omw-1.4 to\n",
      "[nltk_data]     C:\\Users\\mikyg\\AppData\\Roaming\\nltk_data...\n",
      "[nltk_data]   Package omw-1.4 is already up-to-date!\n"
     ]
    }
   ],
   "source": [
    "assistant = assistant()\n",
    "cleaner = DataCleaner()\n",
    "predictor = Predict()"
   ]
  },
  {
   "cell_type": "code",
   "execution_count": 4,
   "metadata": {},
   "outputs": [],
   "source": [
    "repo=\"https://github.com/michaelgetachew-abebe/Prompt-Engineering-LLMs.git\"\n",
    "\n",
    "test=assistant.read_from_dvc(\"data/testing_news.csv\",repo,\"d186622a5e9ebe50a7240969d4c1b0f41c92ae9f\",low_memory=False)\n",
    "train=assistant.read_from_dvc(\"data/training_news.csv\",repo,\"d186622a5e9ebe50a7240969d4c1b0f41c92ae9f\",low_memory=False)"
   ]
  },
  {
   "cell_type": "markdown",
   "metadata": {},
   "source": [
    "NEWS"
   ]
  },
  {
   "cell_type": "code",
   "execution_count": null,
   "metadata": {},
   "outputs": [],
   "source": [
    "unique_test=test.sample()\n",
    "unique_train=train.sample()\n",
    "\n",
    "predictor.predict(unique_train,unique_test) # not fine-tuned\n",
    "predictor.predict(unique_train,unique_test,model=\"a0b276d4-adf8-453e-983f-31b8761e8521-ft\") # news-tuner: first try\n",
    "prompt=predictor.predict(unique_train,unique_test, model=\"c6af2dfd-16ae-4503-9693-6e50dae3861a-ft\" ) # tuner: second try\n",
    "prompt=predictor.predict(unique_train,unique_test, model=\"acfdd84f-2b81-4ee2-92d5-22ca5ee8f4f0-ft\" ) # enhanced-tuner: third try\n",
    "prompt=predictor.predict(unique_train,unique_test, model=\"e74ec85a-8e14-4913-83d5-02fe80ac7c4f-ft\" ) # tuner-all-in-one-column: final try"
   ]
  },
  {
   "cell_type": "markdown",
   "metadata": {},
   "source": [
    "JOBS"
   ]
  },
  {
   "cell_type": "code",
   "execution_count": null,
   "metadata": {},
   "outputs": [],
   "source": [
    "job_train_df=pd.read_json(\"../data/job_description_train.json\")\n",
    "job_test_df=pd.read_json(\"../data/job_description_test.json\")\n",
    "\n",
    "processed_job_train=job_train_df.copy()\n",
    "processed_job_test=job_test_df.copy()\n",
    "\n",
    "processed_job_test=predictor.prepare_job_description_text(job_test_df)\n",
    "processed_job_train=predictor.prepare_job_description_text(job_train_df)"
   ]
  }
 ],
 "metadata": {
  "kernelspec": {
   "display_name": "Python 3.9.12 ('base')",
   "language": "python",
   "name": "python3"
  },
  "language_info": {
   "codemirror_mode": {
    "name": "ipython",
    "version": 3
   },
   "file_extension": ".py",
   "mimetype": "text/x-python",
   "name": "python",
   "nbconvert_exporter": "python",
   "pygments_lexer": "ipython3",
   "version": "3.9.12"
  },
  "orig_nbformat": 4,
  "vscode": {
   "interpreter": {
    "hash": "8b1e457b8bfb0f1a80baef745a8b0e3e0434ec352b0bd03e5bd8b3ada5f38a19"
   }
  }
 },
 "nbformat": 4,
 "nbformat_minor": 2
}
