{
 "cells": [
  {
   "cell_type": "code",
   "execution_count": 1,
   "metadata": {},
   "outputs": [],
   "source": [
    "import pandas as pd\n",
    "import seaborn as sns\n",
    "import matplotlib.pyplot as plt\n",
    "import numpy as np\n",
    "import re\n",
    "import warnings\n",
    "warnings.filterwarnings('ignore')"
   ]
  },
  {
   "cell_type": "code",
   "execution_count": null,
   "metadata": {},
   "outputs": [],
   "source": [
    "import cohere\n",
    "def predict(train_df:pd.DataFrame,test:pd.DataFrame):\n",
    "\n",
    "    test_df=test.drop(train_df.columns[len(train_df.columns)-1],axis=1)\n",
    "\n",
    "    prompt=\"\"\n",
    "    for ind in train_df.index:\n",
    "        for col in train_df.columns:\n",
    "            prompt += f\"{col}: {train_df.loc[ind,col]}\\n\\n\"\n",
    "        prompt += \"-- --\\n\\n\"\n",
    "\n",
    "    for col in test_df.columns:\n",
    "        ind=test_df.index[0]\n",
    "        prompt += f\"{col}: {test_df.loc[ind,col]}\\n\\n\"\n",
    "\n",
    "    prompt += f\"{train_df.columns[len(train_df.columns)-1]}: \"\n",
    "    prompt = \"Task: Score News relevance\\n\\n\"+prompt\n",
    "    \n",
    "    \n",
    "    co = cohere.Client(f'{api_key}')\n",
    "    response = co.generate(\n",
    "    model='xlarge',\n",
    "    prompt=prompt,\n",
    "    max_tokens=4,\n",
    "    temperature=0.9,\n",
    "    k=0,\n",
    "    p=0.75,\n",
    "    frequency_penalty=0,\n",
    "    presence_penalty=0,\n",
    "    stop_sequences=[\"-- --\"],\n",
    "    return_likelihoods='NONE')\n",
    "    print('Prediction: {}'.format(response.generations[0].text))\n",
    "    display(test)\n",
    "\n",
    "    print(\"Trained By\")\n",
    "    display(train_df)\n",
    "\n",
    "    # print(prompt)"
   ]
  }
 ],
 "metadata": {
  "kernelspec": {
   "display_name": "Python 3.9.12 ('base')",
   "language": "python",
   "name": "python3"
  },
  "language_info": {
   "codemirror_mode": {
    "name": "ipython",
    "version": 3
   },
   "file_extension": ".py",
   "mimetype": "text/x-python",
   "name": "python",
   "nbconvert_exporter": "python",
   "pygments_lexer": "ipython3",
   "version": "3.9.12"
  },
  "orig_nbformat": 4,
  "vscode": {
   "interpreter": {
    "hash": "8b1e457b8bfb0f1a80baef745a8b0e3e0434ec352b0bd03e5bd8b3ada5f38a19"
   }
  }
 },
 "nbformat": 4,
 "nbformat_minor": 2
}
